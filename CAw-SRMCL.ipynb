{
 "cells": [
  {
   "cell_type": "code",
   "execution_count": 824,
   "metadata": {},
   "outputs": [],
   "source": [
    "import numpy as np\n",
    "import pandas as pd\n",
    "from itertools import chain\n",
    "import sys"
   ]
  },
  {
   "cell_type": "code",
   "execution_count": null,
   "metadata": {},
   "outputs": [],
   "source": []
  },
  {
   "cell_type": "code",
   "execution_count": null,
   "metadata": {},
   "outputs": [],
   "source": []
  },
  {
   "cell_type": "code",
   "execution_count": 825,
   "metadata": {},
   "outputs": [],
   "source": [
    "clusters = []\n",
    "with open('lolomo.out', 'r') as f:\n",
    "    for row in f:\n",
    "        clusters.append([int(i) for i in row.split()])"
   ]
  },
  {
   "cell_type": "code",
   "execution_count": 826,
   "metadata": {},
   "outputs": [],
   "source": [
    "graph = []\n",
    "with open('a.out', 'r') as a:\n",
    "    for row in a:\n",
    "        graph.append([float(i) for i in row.split()])\n",
    "V, Vnew, E = [int(i) for i in graph[0]]\n",
    "graph = graph[1:]"
   ]
  },
  {
   "cell_type": "code",
   "execution_count": 827,
   "metadata": {},
   "outputs": [],
   "source": [
    "clusters_df = pd.DataFrame(clusters)\n",
    "clusters_df_filled = clusters_df.fillna(-1).astype(int)"
   ]
  },
  {
   "cell_type": "code",
   "execution_count": 828,
   "metadata": {},
   "outputs": [],
   "source": [
    "graph_df = pd.DataFrame(graph)\n",
    "graph_df_filled = graph_df.fillna(-1)\n",
    "graph_df_filled.loc[:,1::2] = graph_df_filled.loc[:,1::2].astype(int)\n",
    "graph_protein_index = graph_df_filled.set_index(0)"
   ]
  },
  {
   "cell_type": "code",
   "execution_count": 829,
   "metadata": {},
   "outputs": [],
   "source": [
    "cluster_mapping = sorted(list(set(chain(*clusters))))\n",
    "cluster_count = len(cluster_mapping)\n",
    "cluster_size = []\n",
    "for i in cluster_mapping:\n",
    "    cluster_size.append(list(chain(*clusters)).count(i))\n",
    "\n",
    "cluster_data = pd.DataFrame()\n",
    "cluster_data['cluster_mapping'] = cluster_mapping\n",
    "cluster_data['cluster_size'] = cluster_size"
   ]
  },
  {
   "cell_type": "code",
   "execution_count": null,
   "metadata": {},
   "outputs": [],
   "source": []
  },
  {
   "cell_type": "code",
   "execution_count": null,
   "metadata": {},
   "outputs": [],
   "source": []
  },
  {
   "cell_type": "code",
   "execution_count": 830,
   "metadata": {},
   "outputs": [],
   "source": [
    "p_inconnectivity = pd.DataFrame(np.zeros([Vnew,cluster_count]), index=connected_proteins.index, columns=cluster_mapping)\n",
    "p_outconnectivity = pd.Series(np.zeros(Vnew),index = connected_proteins.index)"
   ]
  },
  {
   "cell_type": "code",
   "execution_count": 831,
   "metadata": {},
   "outputs": [],
   "source": [
    "p_inconnectivityC = pd.DataFrame(np.zeros([Vnew,cluster_count]), index=connected_proteins.index, columns=cluster_mapping)\n",
    "p_outconnectivityC = pd.Series(np.zeros(Vnew),index = connected_proteins.index)"
   ]
  },
  {
   "cell_type": "code",
   "execution_count": 832,
   "metadata": {},
   "outputs": [],
   "source": [
    "connected_proteins = graph_protein_index.iloc[:,0::2]\n",
    "connection_weights = graph_protein_index.iloc[:,1::2]"
   ]
  },
  {
   "cell_type": "code",
   "execution_count": 833,
   "metadata": {},
   "outputs": [],
   "source": [
    "protein_clusters = clusters_df_filled.set_index(connected_proteins.index)"
   ]
  },
  {
   "cell_type": "code",
   "execution_count": null,
   "metadata": {},
   "outputs": [],
   "source": []
  },
  {
   "cell_type": "code",
   "execution_count": 834,
   "metadata": {},
   "outputs": [],
   "source": [
    "for protein_i,rows in connected_proteins.iterrows():\n",
    "    protein_i_clusters = protein_clusters.loc[protein_i][protein_clusters.loc[protein_i]!=-1]\n",
    "    protein_i_weights = connection_weights.loc[protein_i][connection_weights.loc[protein_i]!=-1]\n",
    "    for protein_j_index, protein_j in enumerate(rows[rows!=-1]):\n",
    "        protein_j_clusters = protein_clusters.loc[protein_j][protein_clusters.loc[protein_j]!=-1]\n",
    "        cluster_match = protein_i_clusters[protein_i_clusters.isin(protein_j_clusters)]\n",
    "        if not cluster_match.empty:\n",
    "            p_inconnectivity.loc[protein_i, cluster_match] += protein_i_weights.iloc[protein_j_index]\n",
    "        else:\n",
    "            p_outconnectivity.loc[protein_i] += protein_i_weights.iloc[protein_j_index]"
   ]
  },
  {
   "cell_type": "code",
   "execution_count": 835,
   "metadata": {},
   "outputs": [],
   "source": [
    "avg_inconnectivity = p_inconnectivity.sum(axis=0)/(2*pd.Series(cluster_size, index = p_inconnectivity.columns))"
   ]
  },
  {
   "cell_type": "code",
   "execution_count": 836,
   "metadata": {},
   "outputs": [],
   "source": [
    "isCore = pd.DataFrame((p_inconnectivity >= avg_inconnectivity).values & ((p_inconnectivity.T > p_outconnectivity).T).values, index = p_inconnectivity.index, columns= p_inconnectivity.columns)"
   ]
  },
  {
   "cell_type": "code",
   "execution_count": 837,
   "metadata": {},
   "outputs": [
    {
     "data": {
      "text/plain": [
       "1493"
      ]
     },
     "execution_count": 837,
     "metadata": {},
     "output_type": "execute_result"
    }
   ],
   "source": [
    "isCore.sum().sum()"
   ]
  },
  {
   "cell_type": "code",
   "execution_count": null,
   "metadata": {},
   "outputs": [],
   "source": []
  },
  {
   "cell_type": "code",
   "execution_count": 838,
   "metadata": {},
   "outputs": [],
   "source": [
    "for protein_i,rows in connected_proteins.iterrows():\n",
    "    protein_i_clusters = protein_clusters.loc[protein_i][protein_clusters.loc[protein_i]!=-1]\n",
    "    if((isCore.loc[protein_i,protein_i_clusters]==False).empty):\n",
    "        continue\n",
    "    protein_i_clusters = (isCore.loc[protein_i,protein_i_clusters]==False).index\n",
    "    protein_i_weights = connection_weights.loc[protein_i][connection_weights.loc[protein_i]!=-1]\n",
    "    for protein_j_index, protein_j in enumerate(rows[rows!=-1]):\n",
    "        protein_j_clusters = protein_clusters.loc[protein_j][protein_clusters.loc[protein_j]!=-1]\n",
    "        cluster_match = protein_i_clusters[protein_i_clusters.isin(protein_j_clusters)]\n",
    "        if not cluster_match.empty:\n",
    "            protein_j_clusters = (isCore.loc[protein_j,protein_j_clusters]==True).index\n",
    "            cluster_match = protein_i_clusters[protein_i_clusters.isin(protein_j_clusters)]\n",
    "            if not cluster_match.empty:\n",
    "                p_inconnectivityC.loc[protein_i, cluster_match] += protein_i_weights.iloc[protein_j_index]\n",
    "            else:\n",
    "                p_outconnectivityC.loc[protein_i] += protein_i_weights.iloc[protein_j_index]"
   ]
  },
  {
   "cell_type": "code",
   "execution_count": 839,
   "metadata": {},
   "outputs": [],
   "source": [
    "avg_inconnectivityC = p_inconnectivityC.sum(axis=0)/(2*pd.Series(cluster_size, index = p_inconnectivityC.columns))"
   ]
  },
  {
   "cell_type": "code",
   "execution_count": 840,
   "metadata": {},
   "outputs": [],
   "source": [
    "isCore = isCore | pd.DataFrame((p_inconnectivityC >= avg_inconnectivityC).values & ((p_inconnectivityC.T > p_outconnectivityC).T).values, index = p_inconnectivityC.index, columns= p_inconnectivityC.columns)"
   ]
  },
  {
   "cell_type": "code",
   "execution_count": 841,
   "metadata": {},
   "outputs": [
    {
     "data": {
      "text/plain": [
       "2267"
      ]
     },
     "execution_count": 841,
     "metadata": {},
     "output_type": "execute_result"
    }
   ],
   "source": [
    "isCore.sum().sum()"
   ]
  },
  {
   "cell_type": "code",
   "execution_count": 842,
   "metadata": {},
   "outputs": [
    {
     "data": {
      "text/plain": [
       "554"
      ]
     },
     "execution_count": 842,
     "metadata": {},
     "output_type": "execute_result"
    }
   ],
   "source": [
    "(isCore.sum()>0).sum()"
   ]
  },
  {
   "cell_type": "code",
   "execution_count": 843,
   "metadata": {},
   "outputs": [],
   "source": [
    "cluster_inter = pd.Series(np.zeros(cluster_count), index=cluster_mapping)"
   ]
  },
  {
   "cell_type": "code",
   "execution_count": 844,
   "metadata": {},
   "outputs": [],
   "source": [
    "for cluster, proteins in isCore.iteritems():\n",
    "    core_proteins = proteins[proteins == True].index\n",
    "    for index, core_protein in enumerate(core_proteins):\n",
    "        for next_core_protein in core_proteins[index+1:]:\n",
    "            if next_core_protein in connected_proteins.loc[core_protein,:].values:\n",
    "                cluster_inter[cluster] += connection_weights.loc[core_protein,connected_proteins.loc[core_protein,:][connected_proteins.loc[core_protein,:]==next_core_protein].index[0]+1]\n",
    "                "
   ]
  },
  {
   "cell_type": "code",
   "execution_count": 845,
   "metadata": {},
   "outputs": [],
   "source": [
    "attachment_candidate = isCore.sum(axis=1)[isCore.sum(axis=1)==0].index"
   ]
  },
  {
   "cell_type": "code",
   "execution_count": 846,
   "metadata": {},
   "outputs": [],
   "source": [
    "p_interC = pd.DataFrame(np.zeros((len(attachment_candidate), cluster_count)), index = attachment_candidate, columns=cluster_mapping)"
   ]
  },
  {
   "cell_type": "code",
   "execution_count": 847,
   "metadata": {},
   "outputs": [],
   "source": [
    "for protein in attachment_candidate:\n",
    "    for connected_protein in connected_proteins.loc[protein,:][connected_proteins.loc[protein,:]!=-1]:\n",
    "        #if isCore.loc[connected_protein,:].sum():\n",
    "        connected_clusters = isCore.loc[connected_protein,:][isCore.loc[connected_protein,:]==True].index\n",
    "        #print(connected_cores)\n",
    "        p_interC.loc[protein,connected_clusters] += connection_weights.loc[protein,connected_proteins.loc[protein,:][connected_proteins.loc[protein,:]==connected_protein].index[0]+1]"
   ]
  },
  {
   "cell_type": "code",
   "execution_count": 849,
   "metadata": {},
   "outputs": [],
   "source": [
    "alpha = 1\n",
    "gamma = 0.75\n",
    "isAttachment = (p_interC>=alpha*cluster_inter*(np.array(cluster_size)/2)**-gamma)#the cluster_size here is based on original code which differs with the definition on the paper"
   ]
  },
  {
   "cell_type": "code",
   "execution_count": 850,
   "metadata": {},
   "outputs": [],
   "source": [
    "with open('caw.out', 'w+') as file:\n",
    "    cluster_count = 0\n",
    "    for cluster in cluster_mapping:\n",
    "        if isCore.loc[:,cluster].sum()>0:\n",
    "            file.write(\"---------Cluster {}-----------\\n\".format(cluster_count+1) )\n",
    "            file.write(\"Core Proteins: {}\\n\".format(isCore.loc[:,cluster][isCore.loc[:,cluster]==True].index.tolist()))\n",
    "            if cluster in isAttachment.columns.values.tolist():\n",
    "                file.write(\"Attachment Proteins: {}\\n\".format(isAttachment.loc[:,cluster][isAttachment.loc[:,cluster]==True].index.tolist()))\n",
    "            file.write(\"\\n\\n\")\n",
    "            cluster_count+=1"
   ]
  }
 ],
 "metadata": {
  "kernelspec": {
   "display_name": "Python 3",
   "language": "python",
   "name": "python3"
  },
  "language_info": {
   "codemirror_mode": {
    "name": "ipython",
    "version": 3
   },
   "file_extension": ".py",
   "mimetype": "text/x-python",
   "name": "python",
   "nbconvert_exporter": "python",
   "pygments_lexer": "ipython3",
   "version": "3.7.3"
  }
 },
 "nbformat": 4,
 "nbformat_minor": 4
}
